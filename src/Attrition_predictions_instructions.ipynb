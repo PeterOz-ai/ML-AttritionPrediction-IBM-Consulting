{
 "cells": [
  {
   "cell_type": "markdown",
   "metadata": {},
   "source": [
    "# Team Work: Machine Learning 2\n",
    "\n",
    "The dataset is available on Kaggle: [Employee Attrition competition](https://www.kaggle.com/competitions/playground-series-s3e3/data)\n",
    "\n",
    "* The goal is to predict whether an employee will leave the company or not (`Attrition` column, binary classification).\n",
    "* The dataset is artificially generated, but it is based on real data: [original data](https://www.kaggle.com/datasets/pavansubhasht/ibm-hr-analytics-attrition-dataset)\n",
    "    * Perform your analysis, experiments and model selection on the training set, and don't touch the test set until you're ready to submit your predictions.\n",
    "    * You can save some data from the training set to use as a validation set, but you should not use the test set for this purpose.\n",
    "    * Once you're comfortable with the performance of your model on the training set, you can use the test set to get a final estimate of the performance of your model.\n",
    "    * The CSV file that you will submit, should contain the predictions of your model on the test set. This means that the CSV should contain as many rows as the test set, and a single column with the predictions (0 or 1)."
   ]
  }
 ],
 "metadata": {
  "kernelspec": {
   "display_name": "base",
   "language": "python",
   "name": "python3"
  },
  "language_info": {
   "codemirror_mode": {
    "name": "ipython",
    "version": 3
   },
   "file_extension": ".py",
   "mimetype": "text/x-python",
   "name": "python",
   "nbconvert_exporter": "python",
   "pygments_lexer": "ipython3",
   "version": "3.9.13"
  },
  "vscode": {
   "interpreter": {
    "hash": "3d733caf4ffc39d0fbd9a2ba54ef4b7d515956d8048931f8241efe3827fb2d1f"
   }
  }
 },
 "nbformat": 4,
 "nbformat_minor": 4
}
